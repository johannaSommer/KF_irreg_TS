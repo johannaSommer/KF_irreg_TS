{
 "cells": [
  {
   "cell_type": "code",
   "execution_count": 1,
   "id": "maritime-hughes",
   "metadata": {},
   "outputs": [],
   "source": [
    "import numpy as np\n",
    "import torch\n",
    "from torchdiffeq import odeint"
   ]
  },
  {
   "cell_type": "code",
   "execution_count": 2,
   "id": "hungry-fraction",
   "metadata": {},
   "outputs": [
    {
     "name": "stdout",
     "output_type": "stream",
     "text": [
      "tensor([[0.1150, 0.0023],\n",
      "        [0.0023, 0.0329]])\n"
     ]
    }
   ],
   "source": [
    "F = torch.rand(2, 2) # transition\n",
    "\n",
    "\n",
    "# define noise as present in KF\n",
    "Q = torch.eye(2) * torch.pow(torch.randn(2), 2)\n",
    "# if we assume white noise PSD and covariance are the same\n",
    "Qc = Q\n",
    "\n",
    "interval = torch.Tensor([0, 0.3])\n",
    "t = interval[1]\n",
    "\n",
    "def discretize(F, Q, Qc, t):\n",
    "    A = torch.matrix_exp(F * t)\n",
    "\n",
    "    n = F.shape[0]\n",
    "\n",
    "    # matrix fraction decomposition\n",
    "    M = torch.zeros(2*n, 2*n)\n",
    "    M[:n,:n] = F\n",
    "    # Formula says L @ Qc @ L but L is identity\n",
    "    M[:n,n:] = Qc\n",
    "    M[n:,n:] = -F.T\n",
    "    M = torch.matrix_exp(M * t) @ torch.cat([torch.zeros(n, n), torch.eye(n, n)])\n",
    "    C, D = M[:n], M[n:]\n",
    "    L = C @ torch.inverse(D)\n",
    "\n",
    "    return A, L\n",
    "\n",
    "A, L = discretize(F, Q, Qc, t)\n",
    "print(L)\n",
    "\n",
    "def discrete_step(m, P):\n",
    "    m = A @ m\n",
    "    P = A @ P @ A.T + L\n",
    "    return m, P\n",
    "\n",
    "def ode_func(t, state):\n",
    "    m, P = state\n",
    "    dm = F @ m\n",
    "    dP = F @ P + P @ F.T + Q\n",
    "    return dm, dP"
   ]
  },
  {
   "cell_type": "code",
   "execution_count": 3,
   "id": "united-future",
   "metadata": {},
   "outputs": [
    {
     "name": "stdout",
     "output_type": "stream",
     "text": [
      "ODE solution\n",
      "m: tensor([0.7024, 0.6069])\n",
      "P: tensor([1.1578, 0.3395, 1.0126, 0.0768])\n",
      "Discretized solution\n",
      "m: tensor([0.7024, 0.6069])\n",
      "P: tensor([1.1578, 0.3395, 1.0126, 0.0768])\n"
     ]
    }
   ],
   "source": [
    "m, P = torch.rand(2, 1), torch.rand(2, 2)\n",
    "solution = odeint(ode_func, (m, P), interval)\n",
    "m1, P1 = solution[0][1], solution[1][1]\n",
    "print('ODE solution')\n",
    "print('m:', m1.flatten())\n",
    "print('P:', P1.flatten())\n",
    "\n",
    "m2, P2 = discrete_step(m, P)\n",
    "print('Discretized solution')\n",
    "print('m:', m2.flatten())\n",
    "print('P:', P2.flatten())\n",
    "\n",
    "assert torch.isclose(m1, m2).all() \n",
    "assert torch.isclose(P1, P2).all()"
   ]
  }
 ],
 "metadata": {
  "kernelspec": {
   "display_name": "Python 3",
   "language": "python",
   "name": "python3"
  },
  "language_info": {
   "codemirror_mode": {
    "name": "ipython",
    "version": 3
   },
   "file_extension": ".py",
   "mimetype": "text/x-python",
   "name": "python",
   "nbconvert_exporter": "python",
   "pygments_lexer": "ipython3",
   "version": "3.8.5"
  }
 },
 "nbformat": 4,
 "nbformat_minor": 5
}
