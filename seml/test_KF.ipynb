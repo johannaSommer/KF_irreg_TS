{
 "cells": [
  {
   "cell_type": "markdown",
   "metadata": {},
   "source": [
    "# Load KF and evaluate on validation set"
   ]
  },
  {
   "cell_type": "code",
   "execution_count": 1,
   "metadata": {},
   "outputs": [],
   "source": [
    "import os\n",
    "os.chdir(\"..\")\n",
    "import torch\n",
    "from models.KF_wrapper import *\n",
    "from training.KF_train_utils import validate_KF\n",
    "from datasets.utils.get_data import get_OU_data, get_mimic_data\n",
    "from datasets.utils import data_utils\n",
    "from torch.utils.data import DataLoader"
   ]
  },
  {
   "cell_type": "code",
   "execution_count": 2,
   "metadata": {},
   "outputs": [
    {
     "name": "stdout",
     "output_type": "stream",
     "text": [
      "# of patients: 14358\n"
     ]
    }
   ],
   "source": [
    "train, val, test, name = get_mimic_data(norm=\"gaussian\")"
   ]
  },
  {
   "cell_type": "code",
   "execution_count": 3,
   "metadata": {},
   "outputs": [],
   "source": [
    "#model = KF(seed=11, dim=38, latent_dim=50) \n",
    "#model = RKF_F(seed=11, dim=38, latent_dim=40, hidden_dim=5) \n",
    "#model = RCKF(seed=11, dim=38, latent_dim=40, hidden_dim=20, cov_dim=52) \n",
    "model = NKF(seed=1, dim=38, latent_dim=50)\n",
    "model.load_state_dict(##Path##)\n",
    "model = model.to(\"cuda\")"
   ]
  },
  {
   "cell_type": "code",
   "execution_count": 4,
   "metadata": {},
   "outputs": [
    {
     "name": "stdout",
     "output_type": "stream",
     "text": [
      "Average validation NegLL is -0.3465\n"
     ]
    },
    {
     "data": {
      "text/plain": [
       "-0.3465137183666229"
      ]
     },
     "execution_count": 4,
     "metadata": {},
     "output_type": "execute_result"
    }
   ],
   "source": [
    "dl_val = DataLoader(dataset=val, collate_fn=data_utils.collate_KF, shuffle=False, batch_size=128, num_workers=0)\n",
    "validate_KF(model, dl_val, 0, \"KF\")"
   ]
  },
  {
   "cell_type": "code",
   "execution_count": 5,
   "metadata": {},
   "outputs": [
    {
     "name": "stdout",
     "output_type": "stream",
     "text": [
      "Average validation NegLL is -0.3234\n"
     ]
    },
    {
     "data": {
      "text/plain": [
       "-0.32338160276412964"
      ]
     },
     "execution_count": 5,
     "metadata": {},
     "output_type": "execute_result"
    }
   ],
   "source": [
    "dl_test = DataLoader(dataset=test, collate_fn=data_utils.collate_KF, shuffle=False, batch_size=128, num_workers=0)\n",
    "validate_KF(model, dl_test, 0, \"KF\")"
   ]
  }
 ],
 "metadata": {
  "kernelspec": {
   "display_name": "Python 3",
   "language": "python",
   "name": "python3"
  },
  "language_info": {
   "codemirror_mode": {
    "name": "ipython",
    "version": 3
   },
   "file_extension": ".py",
   "mimetype": "text/x-python",
   "name": "python",
   "nbconvert_exporter": "python",
   "pygments_lexer": "ipython3",
   "version": "3.8.5"
  }
 },
 "nbformat": 4,
 "nbformat_minor": 4
}
