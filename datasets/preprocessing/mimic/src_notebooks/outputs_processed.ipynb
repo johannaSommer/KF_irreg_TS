{
 "cells": [
  {
   "cell_type": "markdown",
   "metadata": {},
   "source": [
    "# MIMIC 4 data - dataset construction inputevents"
   ]
  },
  {
   "cell_type": "code",
   "execution_count": 1,
   "metadata": {},
   "outputs": [],
   "source": [
    "import os\n",
    "import pandas as pd\n",
    "import matplotlib.pyplot as plt\n",
    "from datetime import datetime\n",
    "from datetime import timedelta\n",
    "import numpy as np"
   ]
  },
  {
   "cell_type": "code",
   "execution_count": 2,
   "metadata": {},
   "outputs": [],
   "source": [
    "pd.set_option('display.max_rows', 50)\n",
    "pd.set_option('display.max_columns', 300)"
   ]
  },
  {
   "cell_type": "code",
   "execution_count": 3,
   "metadata": {},
   "outputs": [],
   "source": [
    "adm = pd.read_csv(\"/path/admissions_processed.csv\")"
   ]
  },
  {
   "cell_type": "code",
   "execution_count": 4,
   "metadata": {},
   "outputs": [
    {
     "data": {
      "text/html": [
       "<div>\n",
       "<style scoped>\n",
       "    .dataframe tbody tr th:only-of-type {\n",
       "        vertical-align: middle;\n",
       "    }\n",
       "\n",
       "    .dataframe tbody tr th {\n",
       "        vertical-align: top;\n",
       "    }\n",
       "\n",
       "    .dataframe thead th {\n",
       "        text-align: right;\n",
       "    }\n",
       "</style>\n",
       "<table border=\"1\" class=\"dataframe\">\n",
       "  <thead>\n",
       "    <tr style=\"text-align: right;\">\n",
       "      <th></th>\n",
       "      <th>subject_id</th>\n",
       "      <th>hadm_id</th>\n",
       "      <th>stay_id</th>\n",
       "      <th>charttime</th>\n",
       "      <th>storetime</th>\n",
       "      <th>itemid</th>\n",
       "      <th>value</th>\n",
       "      <th>valueuom</th>\n",
       "    </tr>\n",
       "  </thead>\n",
       "  <tbody>\n",
       "    <tr>\n",
       "      <th>4248823</th>\n",
       "      <td>19999068</td>\n",
       "      <td>21606769</td>\n",
       "      <td>31096823</td>\n",
       "      <td>2161-08-30 12:00:00</td>\n",
       "      <td>2161-08-30 12:21:00</td>\n",
       "      <td>226559</td>\n",
       "      <td>180.0</td>\n",
       "      <td>ml</td>\n",
       "    </tr>\n",
       "    <tr>\n",
       "      <th>4248824</th>\n",
       "      <td>19999068</td>\n",
       "      <td>21606769</td>\n",
       "      <td>31096823</td>\n",
       "      <td>2161-08-30 14:00:00</td>\n",
       "      <td>2161-08-30 13:49:00</td>\n",
       "      <td>226559</td>\n",
       "      <td>320.0</td>\n",
       "      <td>ml</td>\n",
       "    </tr>\n",
       "    <tr>\n",
       "      <th>4248825</th>\n",
       "      <td>19999068</td>\n",
       "      <td>21606769</td>\n",
       "      <td>31096823</td>\n",
       "      <td>2161-08-30 15:00:00</td>\n",
       "      <td>2161-08-30 14:49:00</td>\n",
       "      <td>226559</td>\n",
       "      <td>120.0</td>\n",
       "      <td>ml</td>\n",
       "    </tr>\n",
       "    <tr>\n",
       "      <th>4248826</th>\n",
       "      <td>19999068</td>\n",
       "      <td>21606769</td>\n",
       "      <td>31096823</td>\n",
       "      <td>2161-08-30 18:00:00</td>\n",
       "      <td>2161-08-30 17:50:00</td>\n",
       "      <td>226559</td>\n",
       "      <td>400.0</td>\n",
       "      <td>ml</td>\n",
       "    </tr>\n",
       "    <tr>\n",
       "      <th>4248827</th>\n",
       "      <td>19999068</td>\n",
       "      <td>21606769</td>\n",
       "      <td>31096823</td>\n",
       "      <td>2161-08-30 23:00:00</td>\n",
       "      <td>2161-08-30 23:35:00</td>\n",
       "      <td>226559</td>\n",
       "      <td>250.0</td>\n",
       "      <td>ml</td>\n",
       "    </tr>\n",
       "  </tbody>\n",
       "</table>\n",
       "</div>"
      ],
      "text/plain": [
       "         subject_id   hadm_id   stay_id            charttime  \\\n",
       "4248823    19999068  21606769  31096823  2161-08-30 12:00:00   \n",
       "4248824    19999068  21606769  31096823  2161-08-30 14:00:00   \n",
       "4248825    19999068  21606769  31096823  2161-08-30 15:00:00   \n",
       "4248826    19999068  21606769  31096823  2161-08-30 18:00:00   \n",
       "4248827    19999068  21606769  31096823  2161-08-30 23:00:00   \n",
       "\n",
       "                   storetime  itemid  value valueuom  \n",
       "4248823  2161-08-30 12:21:00  226559  180.0       ml  \n",
       "4248824  2161-08-30 13:49:00  226559  320.0       ml  \n",
       "4248825  2161-08-30 14:49:00  226559  120.0       ml  \n",
       "4248826  2161-08-30 17:50:00  226559  400.0       ml  \n",
       "4248827  2161-08-30 23:35:00  226559  250.0       ml  "
      ]
     },
     "execution_count": 4,
     "metadata": {},
     "output_type": "execute_result"
    }
   ],
   "source": [
    "outputs = pd.read_csv('/path/outputevents.csv.gz')\n",
    "outputs.tail()"
   ]
  },
  {
   "cell_type": "code",
   "execution_count": 5,
   "metadata": {},
   "outputs": [
    {
     "name": "stdout",
     "output_type": "stream",
     "text": [
      "Number of patients remaining in the database: \n",
      "16428\n"
     ]
    }
   ],
   "source": [
    "#Some checks\n",
    "# edit: tag not present here\n",
    "#assert(len(outputs.loc[outputs[\"warning\"].notnull()].index)==0) #No entry with iserror==TRUE\n",
    "\n",
    "#Restrict the dataset to the previously selected admission ids only.\n",
    "adm_ids=list(adm[\"hadm_id\"])\n",
    "outputs=outputs.loc[outputs[\"hadm_id\"].isin(adm_ids)]\n",
    "\n",
    "print(\"Number of patients remaining in the database: \")\n",
    "print(outputs[\"subject_id\"].nunique())"
   ]
  },
  {
   "cell_type": "code",
   "execution_count": 6,
   "metadata": {},
   "outputs": [
    {
     "name": "stdout",
     "output_type": "stream",
     "text": [
      "Number of patients remaining in the database: \n",
      "16428\n"
     ]
    }
   ],
   "source": [
    "#item_id \n",
    "item_id=pd.read_csv('/path/d_items.csv.gz')\n",
    "item_id_1=item_id[[\"itemid\",\"label\"]]\n",
    "item_id_1.head()\n",
    "\n",
    "#We merge the name of the item administrated.\n",
    "outputs_2=pd.merge(outputs,item_id_1,on=\"itemid\")\n",
    "outputs_2.head()\n",
    "print(\"Number of patients remaining in the database: \")\n",
    "print(outputs_2[\"subject_id\"].nunique())"
   ]
  },
  {
   "cell_type": "code",
   "execution_count": 7,
   "metadata": {},
   "outputs": [
    {
     "name": "stdout",
     "output_type": "stream",
     "text": [
      "Number of patients remaining in the database: \n",
      "16363\n",
      "Number of datapoints remaining in the database: \n",
      "1090625\n",
      "label\n",
      "Foley                 14037\n",
      "Void                   6261\n",
      "OR Urine               5334\n",
      "Chest Tube #1          4464\n",
      "Oral Gastric           2868\n",
      "Pre-Admission          2537\n",
      "TF Residual            2333\n",
      "OR EBL                 2185\n",
      "Emesis                 1166\n",
      "Nasogastric            1133\n",
      "Stool                  1022\n",
      "Jackson Pratt #1        922\n",
      "TF Residual Output      759\n",
      "Fecal Bag               711\n",
      "Straight Cath           629\n",
      "Name: subject_id, dtype: int64\n"
     ]
    }
   ],
   "source": [
    "n_best=15\n",
    "#For each item, evaluate the number of patients who have been given this item.\n",
    "pat_for_item=outputs_2.groupby(\"label\")[\"subject_id\"].nunique()\n",
    "#Order by occurence and take the 20 best (the ones with the most patients)\n",
    "frequent_labels=pat_for_item.sort_values(ascending=False)[:n_best]\n",
    "\n",
    "#Select only the time series with high occurence.\n",
    "outputs_3=outputs_2.loc[outputs_2[\"label\"].isin(list(frequent_labels.index))].copy()\n",
    "\n",
    "print(\"Number of patients remaining in the database: \")\n",
    "print(outputs_3[\"subject_id\"].nunique())\n",
    "print(\"Number of datapoints remaining in the database: \")\n",
    "print(len(outputs_3.index))\n",
    "\n",
    "print(frequent_labels)"
   ]
  },
  {
   "cell_type": "code",
   "execution_count": 8,
   "metadata": {},
   "outputs": [
    {
     "name": "stdout",
     "output_type": "stream",
     "text": [
      "Number of patients remaining in the database: \n",
      "16358\n",
      "Number of datapoints remaining in the database: \n",
      "974526\n"
     ]
    }
   ],
   "source": [
    "outputs_label_list=['Foley', 'Void', 'OR Urine', 'Chest Tube', 'Oral Gastric', 'Pre-Admission', 'TF Residual', 'OR EBL', 'Emesis', 'Nasogastric', 'Stool', 'Jackson Pratt', 'TF Residual Output', 'Fecal Bag', 'Straight Cath']\n",
    "#outputs_label_list=['Gastric Gastric Tube','Stool Out Stool','Urine Out Incontinent','Ultrafiltrate Ultrafiltrate','Foley', 'Void','Condom Cath','Fecal Bag','Ostomy (output)','Chest Tube #1','Chest Tube #2','Jackson Pratt #1','OR EBL','Pre-Admission','TF Residual']\n",
    "outputs_bis=outputs_2.loc[outputs_2[\"label\"].isin(outputs_label_list)].copy()\n",
    "\n",
    "print(\"Number of patients remaining in the database: \")\n",
    "print(outputs_bis[\"subject_id\"].nunique())\n",
    "print(\"Number of datapoints remaining in the database: \")\n",
    "print(len(outputs_bis.index))\n",
    "\n",
    "outputs_3=outputs_bis.copy()"
   ]
  },
  {
   "cell_type": "markdown",
   "metadata": {},
   "source": [
    "ODE-GRU-Bayes does data cleaning here."
   ]
  },
  {
   "cell_type": "code",
   "execution_count": null,
   "metadata": {},
   "outputs": [],
   "source": []
  },
  {
   "cell_type": "code",
   "execution_count": 9,
   "metadata": {},
   "outputs": [
    {
     "data": {
      "text/plain": [
       "label               valueuom\n",
       "Emesis              ml            2040\n",
       "Fecal Bag           ml            2891\n",
       "Foley               ml          855690\n",
       "Nasogastric         ml            5430\n",
       "OR EBL              ml            2597\n",
       "OR Urine            ml            6015\n",
       "Oral Gastric        ml            7961\n",
       "Pre-Admission       ml            3268\n",
       "Stool               ml            2653\n",
       "Straight Cath       ml            2036\n",
       "TF Residual         ml           22594\n",
       "TF Residual Output  ml            2337\n",
       "Void                ml           59014\n",
       "Name: valueuom, dtype: int64"
      ]
     },
     "execution_count": 9,
     "metadata": {},
     "output_type": "execute_result"
    }
   ],
   "source": [
    "#Verification that all input labels have the same amounts units.\n",
    "outputs_3.groupby(\"label\")[\"valueuom\"].value_counts() #OK"
   ]
  },
  {
   "cell_type": "code",
   "execution_count": 10,
   "metadata": {},
   "outputs": [],
   "source": [
    "outputs_3.to_csv(\"/path/outputs_processed.csv\")"
   ]
  }
 ],
 "metadata": {
  "kernelspec": {
   "display_name": "Python 3",
   "language": "python",
   "name": "python3"
  },
  "language_info": {
   "codemirror_mode": {
    "name": "ipython",
    "version": 3
   },
   "file_extension": ".py",
   "mimetype": "text/x-python",
   "name": "python",
   "nbconvert_exporter": "python",
   "pygments_lexer": "ipython3",
   "version": "3.8.3"
  }
 },
 "nbformat": 4,
 "nbformat_minor": 4
}