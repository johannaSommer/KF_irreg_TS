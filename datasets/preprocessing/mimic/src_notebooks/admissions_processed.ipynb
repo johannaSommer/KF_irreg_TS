{
 "cells": [
  {
   "cell_type": "markdown",
   "metadata": {},
   "source": [
    "# MIMIC 4 data - dataset construction admissions"
   ]
  },
  {
   "cell_type": "markdown",
   "metadata": {},
   "source": [
    "We use the code provided by the authors of the GRU-ODE-Bayes paper to construct time series data from the mimic dataset. <br/>\n",
    "https://github.com/edebrouwer/gru_ode_bayes/tree/master/data_preproc/MIMIC"
   ]
  },
  {
   "cell_type": "code",
   "execution_count": 1,
   "metadata": {},
   "outputs": [],
   "source": [
    "import os\n",
    "import pandas as pd\n",
    "import matplotlib.pyplot as plt\n",
    "from datetime import datetime\n",
    "from datetime import timedelta\n",
    "import numpy as np"
   ]
  },
  {
   "cell_type": "code",
   "execution_count": 2,
   "metadata": {},
   "outputs": [
    {
     "data": {
      "text/html": [
       "<div>\n",
       "<style scoped>\n",
       "    .dataframe tbody tr th:only-of-type {\n",
       "        vertical-align: middle;\n",
       "    }\n",
       "\n",
       "    .dataframe tbody tr th {\n",
       "        vertical-align: top;\n",
       "    }\n",
       "\n",
       "    .dataframe thead th {\n",
       "        text-align: right;\n",
       "    }\n",
       "</style>\n",
       "<table border=\"1\" class=\"dataframe\">\n",
       "  <thead>\n",
       "    <tr style=\"text-align: right;\">\n",
       "      <th></th>\n",
       "      <th>subject_id</th>\n",
       "      <th>hadm_id</th>\n",
       "      <th>admittime</th>\n",
       "      <th>dischtime</th>\n",
       "      <th>deathtime</th>\n",
       "      <th>admission_type</th>\n",
       "      <th>admission_location</th>\n",
       "      <th>discharge_location</th>\n",
       "      <th>insurance</th>\n",
       "      <th>language</th>\n",
       "      <th>marital_status</th>\n",
       "      <th>ethnicity</th>\n",
       "      <th>edregtime</th>\n",
       "      <th>edouttime</th>\n",
       "      <th>hospital_expire_flag</th>\n",
       "    </tr>\n",
       "  </thead>\n",
       "  <tbody>\n",
       "    <tr>\n",
       "      <th>524515</th>\n",
       "      <td>17892964</td>\n",
       "      <td>20786062</td>\n",
       "      <td>2180-09-17 00:00:00</td>\n",
       "      <td>2180-09-18 13:37:00</td>\n",
       "      <td>NaN</td>\n",
       "      <td>SURGICAL SAME DAY ADMISSION</td>\n",
       "      <td>PHYSICIAN REFERRAL</td>\n",
       "      <td>HOME</td>\n",
       "      <td>Medicare</td>\n",
       "      <td>ENGLISH</td>\n",
       "      <td>SINGLE</td>\n",
       "      <td>WHITE</td>\n",
       "      <td>NaN</td>\n",
       "      <td>NaN</td>\n",
       "      <td>0</td>\n",
       "    </tr>\n",
       "    <tr>\n",
       "      <th>524516</th>\n",
       "      <td>17137572</td>\n",
       "      <td>20943099</td>\n",
       "      <td>2147-08-01 17:41:00</td>\n",
       "      <td>2147-08-02 17:30:00</td>\n",
       "      <td>NaN</td>\n",
       "      <td>EW EMER.</td>\n",
       "      <td>TRANSFER FROM HOSPITAL</td>\n",
       "      <td>HOME</td>\n",
       "      <td>Other</td>\n",
       "      <td>ENGLISH</td>\n",
       "      <td>DIVORCED</td>\n",
       "      <td>HISPANIC/LATINO</td>\n",
       "      <td>2147-07-31 23:55:00</td>\n",
       "      <td>2147-08-01 19:37:00</td>\n",
       "      <td>0</td>\n",
       "    </tr>\n",
       "    <tr>\n",
       "      <th>524517</th>\n",
       "      <td>19389857</td>\n",
       "      <td>23176714</td>\n",
       "      <td>2189-03-01 00:58:00</td>\n",
       "      <td>2189-03-02 15:22:00</td>\n",
       "      <td>NaN</td>\n",
       "      <td>SURGICAL SAME DAY ADMISSION</td>\n",
       "      <td>PHYSICIAN REFERRAL</td>\n",
       "      <td>HOME</td>\n",
       "      <td>Other</td>\n",
       "      <td>ENGLISH</td>\n",
       "      <td>MARRIED</td>\n",
       "      <td>WHITE</td>\n",
       "      <td>NaN</td>\n",
       "      <td>NaN</td>\n",
       "      <td>0</td>\n",
       "    </tr>\n",
       "    <tr>\n",
       "      <th>524518</th>\n",
       "      <td>12298845</td>\n",
       "      <td>22347500</td>\n",
       "      <td>2138-05-31 00:00:00</td>\n",
       "      <td>2138-06-04 16:50:00</td>\n",
       "      <td>NaN</td>\n",
       "      <td>SURGICAL SAME DAY ADMISSION</td>\n",
       "      <td>PHYSICIAN REFERRAL</td>\n",
       "      <td>HOME HEALTH CARE</td>\n",
       "      <td>Other</td>\n",
       "      <td>ENGLISH</td>\n",
       "      <td>MARRIED</td>\n",
       "      <td>WHITE</td>\n",
       "      <td>NaN</td>\n",
       "      <td>NaN</td>\n",
       "      <td>0</td>\n",
       "    </tr>\n",
       "    <tr>\n",
       "      <th>524519</th>\n",
       "      <td>11211939</td>\n",
       "      <td>24981356</td>\n",
       "      <td>2147-08-02 15:49:00</td>\n",
       "      <td>2147-08-05 16:30:00</td>\n",
       "      <td>NaN</td>\n",
       "      <td>EW EMER.</td>\n",
       "      <td>EMERGENCY ROOM</td>\n",
       "      <td>HOME HEALTH CARE</td>\n",
       "      <td>Medicare</td>\n",
       "      <td>?</td>\n",
       "      <td>WIDOWED</td>\n",
       "      <td>WHITE</td>\n",
       "      <td>2147-08-02 14:27:00</td>\n",
       "      <td>2147-08-02 17:38:00</td>\n",
       "      <td>0</td>\n",
       "    </tr>\n",
       "  </tbody>\n",
       "</table>\n",
       "</div>"
      ],
      "text/plain": [
       "        subject_id   hadm_id            admittime            dischtime  \\\n",
       "524515    17892964  20786062  2180-09-17 00:00:00  2180-09-18 13:37:00   \n",
       "524516    17137572  20943099  2147-08-01 17:41:00  2147-08-02 17:30:00   \n",
       "524517    19389857  23176714  2189-03-01 00:58:00  2189-03-02 15:22:00   \n",
       "524518    12298845  22347500  2138-05-31 00:00:00  2138-06-04 16:50:00   \n",
       "524519    11211939  24981356  2147-08-02 15:49:00  2147-08-05 16:30:00   \n",
       "\n",
       "       deathtime               admission_type      admission_location  \\\n",
       "524515       NaN  SURGICAL SAME DAY ADMISSION      PHYSICIAN REFERRAL   \n",
       "524516       NaN                     EW EMER.  TRANSFER FROM HOSPITAL   \n",
       "524517       NaN  SURGICAL SAME DAY ADMISSION      PHYSICIAN REFERRAL   \n",
       "524518       NaN  SURGICAL SAME DAY ADMISSION      PHYSICIAN REFERRAL   \n",
       "524519       NaN                     EW EMER.          EMERGENCY ROOM   \n",
       "\n",
       "       discharge_location insurance language marital_status        ethnicity  \\\n",
       "524515               HOME  Medicare  ENGLISH         SINGLE            WHITE   \n",
       "524516               HOME     Other  ENGLISH       DIVORCED  HISPANIC/LATINO   \n",
       "524517               HOME     Other  ENGLISH        MARRIED            WHITE   \n",
       "524518   HOME HEALTH CARE     Other  ENGLISH        MARRIED            WHITE   \n",
       "524519   HOME HEALTH CARE  Medicare        ?        WIDOWED            WHITE   \n",
       "\n",
       "                  edregtime            edouttime  hospital_expire_flag  \n",
       "524515                  NaN                  NaN                     0  \n",
       "524516  2147-07-31 23:55:00  2147-08-01 19:37:00                     0  \n",
       "524517                  NaN                  NaN                     0  \n",
       "524518                  NaN                  NaN                     0  \n",
       "524519  2147-08-02 14:27:00  2147-08-02 17:38:00                     0  "
      ]
     },
     "execution_count": 2,
     "metadata": {},
     "output_type": "execute_result"
    }
   ],
   "source": [
    "fn = '/path/admissions.csv.gz'\n",
    "adm = pd.read_csv(fn, compression='gzip')\n",
    "adm.tail()"
   ]
  },
  {
   "cell_type": "code",
   "execution_count": 3,
   "metadata": {},
   "outputs": [],
   "source": [
    "#DIFFERENCE: WE ADD THE AGE AND NOT THE DATE OF BIRTH\n",
    "patients_df=pd.read_csv('/path/patients.csv.gz')\n",
    "patients_df[[\"subject_id\",\"anchor_age\"]].head()\n",
    "adm_dob=pd.merge(patients_df[[\"subject_id\",\"anchor_age\"]],adm,on=\"subject_id\")"
   ]
  },
  {
   "cell_type": "code",
   "execution_count": 4,
   "metadata": {},
   "outputs": [
    {
     "name": "stdout",
     "output_type": "stream",
     "text": [
      "Number of patients remaining in the dataframe: \n",
      "171439\n"
     ]
    }
   ],
   "source": [
    "df=adm.groupby(\"subject_id\")[\"hadm_id\"].nunique()\n",
    "subj_ids=list(df[df==1].index) #index of patients with only one visit.\n",
    "adm_1=adm_dob.loc[adm_dob[\"subject_id\"].isin(subj_ids)] #filter out the patients with more than one visit\n",
    "print(\"Number of patients remaining in the dataframe: \")\n",
    "print(len(adm_1.index))"
   ]
  },
  {
   "cell_type": "code",
   "execution_count": 5,
   "metadata": {},
   "outputs": [
    {
     "data": {
      "image/png": "[encoded data removed]",
      "text/plain": [
       "<Figure size 432x288 with 1 Axes>"
      ]
     },
     "metadata": {
      "needs_background": "light"
     },
     "output_type": "display_data"
    },
    {
     "name": "stdout",
     "output_type": "stream",
     "text": [
      "Number of patients with specific duration of admissions in days : \n",
      " 2      37970\n",
      "1      32593\n",
      "0      32288\n",
      "4      18210\n",
      "3      18184\n",
      "       ...  \n",
      "145        1\n",
      "374        1\n",
      "139        1\n",
      "234        1\n",
      "134        1\n",
      "Name: elapsed_days, Length: 161, dtype: int64\n"
     ]
    }
   ],
   "source": [
    "#We now add a new column with the duration of each stay.\n",
    "adm_1=adm_1.copy()\n",
    "adm_1['admittime']=pd.to_datetime(adm_1[\"admittime\"], format='%Y-%m-%d %H:%M:%S')\n",
    "adm_1['dischtime']=pd.to_datetime(adm_1[\"dischtime\"], format='%Y-%m-%d %H:%M:%S')\n",
    "\n",
    "adm_1[\"elapsed_time\"]=adm_1[\"dischtime\"]-adm_1[\"admittime\"]\n",
    "adm_1.head()\n",
    "adm_1[\"elapsed_days\"]=adm_1[\"elapsed_time\"].dt.days #Elapsed time in days in ICU\n",
    "plt.hist(adm_1[\"elapsed_days\"],bins=200)\n",
    "plt.show()\n",
    "print(\"Number of patients with specific duration of admissions in days : \\n\",adm_1[\"elapsed_days\"].value_counts())"
   ]
  },
  {
   "cell_type": "code",
   "execution_count": 6,
   "metadata": {},
   "outputs": [
    {
     "data": {
      "image/png": "[encoded data removed]",
      "text/plain": [
       "<Figure size 432x288 with 1 Axes>"
      ]
     },
     "metadata": {
      "needs_background": "light"
     },
     "output_type": "display_data"
    }
   ],
   "source": [
    "adm_1[\"deathtag\"]=0\n",
    "adm_1.loc[adm_1.deathtime.notnull(),\"deathtag\"]=1\n",
    "\n",
    "df_deaths_per_duration=adm_1.groupby(\"elapsed_days\")[\"deathtag\"].sum()\n",
    "df_patients_per_duration=adm_1.groupby(\"elapsed_days\")[\"subject_id\"].nunique()\n",
    "df_death_ratio_per_duration=df_deaths_per_duration/df_patients_per_duration\n",
    "plt.plot(df_death_ratio_per_duration)\n",
    "plt.title(\"Death Ratio per ICU stay duration\")\n",
    "plt.xlabel(\"Duration in days\")\n",
    "plt.ylabel(\"Death rate (Number of deaths/Nunber of patients)\")\n",
    "plt.show()"
   ]
  },
  {
   "cell_type": "code",
   "execution_count": 7,
   "metadata": {},
   "outputs": [
    {
     "name": "stdout",
     "output_type": "stream",
     "text": [
      "Number of patients remaining in the dataframe: \n",
      "65901\n"
     ]
    }
   ],
   "source": [
    "adm_2=adm_1.loc[(adm_1[\"elapsed_days\"]<30) & (adm_1[\"elapsed_days\"]>2)]\n",
    "print(\"Number of patients remaining in the dataframe: \")\n",
    "print(len(adm_2.index))"
   ]
  },
  {
   "cell_type": "code",
   "execution_count": 8,
   "metadata": {},
   "outputs": [
    {
     "name": "stdout",
     "output_type": "stream",
     "text": [
      "Number of patients remaining in the dataframe: \n",
      "44037\n"
     ]
    }
   ],
   "source": [
    "adm_2_15=adm_2.loc[adm_2[\"anchor_age\"]>15].copy()\n",
    "print(\"Number of patients remaining in the dataframe: \")\n",
    "print(len(adm_2_15.index))"
   ]
  },
  {
   "cell_type": "code",
   "execution_count": 9,
   "metadata": {},
   "outputs": [
    {
     "name": "stderr",
     "output_type": "stream",
     "text": [
      "/nfs/homedirs/sommer/miniconda3/lib/python3.8/site-packages/IPython/core/interactiveshell.py:3146: DtypeWarning: Columns (6,8) have mixed types.Specify dtype option on import or set low_memory=False.\n",
      "  has_raised = await self.run_ast_nodes(code_ast.body, cell_name,\n"
     ]
    }
   ],
   "source": [
    "fn = '/path/chartevents.csv.gz'\n",
    "chartevents = pd.read_csv(fn, compression='gzip')"
   ]
  },
  {
   "cell_type": "code",
   "execution_count": 10,
   "metadata": {},
   "outputs": [
    {
     "name": "stdout",
     "output_type": "stream",
     "text": [
      "Number of patients remaining in the dataframe: \n",
      "16572\n"
     ]
    }
   ],
   "source": [
    "adm_2_15_chart=adm_2_15.loc[adm_2_15[\"hadm_id\"].isin(chartevents['hadm_id'])].copy()\n",
    "print(\"Number of patients remaining in the dataframe: \")\n",
    "print(len(adm_2_15_chart.index))"
   ]
  },
  {
   "cell_type": "code",
   "execution_count": 11,
   "metadata": {},
   "outputs": [
    {
     "name": "stdout",
     "output_type": "stream",
     "text": [
      "admission_type\n",
      "AMBULATORY OBSERVATION            1\n",
      "DIRECT EMER.                    388\n",
      "DIRECT OBSERVATION                3\n",
      "ELECTIVE                        690\n",
      "EU OBSERVATION                    5\n",
      "EW EMER.                       7622\n",
      "OBSERVATION ADMIT              1713\n",
      "SURGICAL SAME DAY ADMISSION    2006\n",
      "URGENT                         4144\n",
      "Name: subject_id, dtype: int64\n"
     ]
    }
   ],
   "source": [
    "df_type=adm_2_15_chart.groupby(\"admission_type\")[\"subject_id\"].count()\n",
    "print(df_type)\n",
    "adm_3 = adm_2_15_chart"
   ]
  },
  {
   "cell_type": "code",
   "execution_count": 12,
   "metadata": {},
   "outputs": [],
   "source": [
    "adm_3.to_csv(\"/path/admissions_processed.csv\")"
   ]
  }
 ],
 "metadata": {
  "kernelspec": {
   "display_name": "Python 3",
   "language": "python",
   "name": "python3"
  },
  "language_info": {
   "codemirror_mode": {
    "name": "ipython",
    "version": 3
   },
   "file_extension": ".py",
   "mimetype": "text/x-python",
   "name": "python",
   "nbconvert_exporter": "python",
   "pygments_lexer": "ipython3",
   "version": "3.8.3"
  }
 },
 "nbformat": 4,
 "nbformat_minor": 4
}