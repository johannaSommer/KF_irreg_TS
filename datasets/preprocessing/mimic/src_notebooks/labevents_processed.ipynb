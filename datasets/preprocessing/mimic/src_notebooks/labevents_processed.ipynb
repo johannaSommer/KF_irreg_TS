{
 "cells": [
  {
   "cell_type": "markdown",
   "metadata": {},
   "source": [
    "# MIMIC 4 data - dataset construction labevents"
   ]
  },
  {
   "cell_type": "code",
   "execution_count": 1,
   "metadata": {},
   "outputs": [],
   "source": [
    "import os\n",
    "import pandas as pd\n",
    "import matplotlib.pyplot as plt\n",
    "from datetime import datetime\n",
    "from datetime import timedelta\n",
    "import numpy as np\n",
    "from sklearn.model_selection import train_test_split"
   ]
  },
  {
   "cell_type": "code",
   "execution_count": 3,
   "metadata": {},
   "outputs": [],
   "source": [
    "pd.set_option('display.max_rows', 50)\n",
    "pd.set_option('display.max_columns', 300)"
   ]
  },
  {
   "cell_type": "code",
   "execution_count": 4,
   "metadata": {},
   "outputs": [
    {
     "data": {
      "text/html": [
       "<div>\n",
       "<style scoped>\n",
       "    .dataframe tbody tr th:only-of-type {\n",
       "        vertical-align: middle;\n",
       "    }\n",
       "\n",
       "    .dataframe tbody tr th {\n",
       "        vertical-align: top;\n",
       "    }\n",
       "\n",
       "    .dataframe thead th {\n",
       "        text-align: right;\n",
       "    }\n",
       "</style>\n",
       "<table border=\"1\" class=\"dataframe\">\n",
       "  <thead>\n",
       "    <tr style=\"text-align: right;\">\n",
       "      <th></th>\n",
       "      <th>Unnamed: 0</th>\n",
       "      <th>subject_id</th>\n",
       "      <th>anchor_age</th>\n",
       "      <th>hadm_id</th>\n",
       "      <th>admittime</th>\n",
       "      <th>dischtime</th>\n",
       "      <th>deathtime</th>\n",
       "      <th>admission_type</th>\n",
       "      <th>admission_location</th>\n",
       "      <th>discharge_location</th>\n",
       "      <th>insurance</th>\n",
       "      <th>language</th>\n",
       "      <th>marital_status</th>\n",
       "      <th>ethnicity</th>\n",
       "      <th>edregtime</th>\n",
       "      <th>edouttime</th>\n",
       "      <th>hospital_expire_flag</th>\n",
       "      <th>elapsed_time</th>\n",
       "      <th>elapsed_days</th>\n",
       "      <th>deathtag</th>\n",
       "    </tr>\n",
       "  </thead>\n",
       "  <tbody>\n",
       "    <tr>\n",
       "      <th>16567</th>\n",
       "      <td>524311</td>\n",
       "      <td>19959116</td>\n",
       "      <td>47</td>\n",
       "      <td>25551829</td>\n",
       "      <td>2128-11-06 10:25:00</td>\n",
       "      <td>2128-11-14 17:30:00</td>\n",
       "      <td>NaN</td>\n",
       "      <td>EW EMER.</td>\n",
       "      <td>EMERGENCY ROOM</td>\n",
       "      <td>HOME</td>\n",
       "      <td>Medicaid</td>\n",
       "      <td>?</td>\n",
       "      <td>MARRIED</td>\n",
       "      <td>HISPANIC/LATINO</td>\n",
       "      <td>2128-11-06 07:39:00</td>\n",
       "      <td>2128-11-06 11:51:00</td>\n",
       "      <td>0</td>\n",
       "      <td>8 days 07:05:00</td>\n",
       "      <td>8</td>\n",
       "      <td>0</td>\n",
       "    </tr>\n",
       "    <tr>\n",
       "      <th>16568</th>\n",
       "      <td>524320</td>\n",
       "      <td>19962250</td>\n",
       "      <td>58</td>\n",
       "      <td>23717024</td>\n",
       "      <td>2125-12-03 02:27:00</td>\n",
       "      <td>2125-12-11 12:58:00</td>\n",
       "      <td>NaN</td>\n",
       "      <td>OBSERVATION ADMIT</td>\n",
       "      <td>EMERGENCY ROOM</td>\n",
       "      <td>HOME HEALTH CARE</td>\n",
       "      <td>Other</td>\n",
       "      <td>ENGLISH</td>\n",
       "      <td>MARRIED</td>\n",
       "      <td>WHITE</td>\n",
       "      <td>2125-12-03 01:11:00</td>\n",
       "      <td>2125-12-03 04:07:00</td>\n",
       "      <td>0</td>\n",
       "      <td>8 days 10:31:00</td>\n",
       "      <td>8</td>\n",
       "      <td>0</td>\n",
       "    </tr>\n",
       "    <tr>\n",
       "      <th>16569</th>\n",
       "      <td>524446</td>\n",
       "      <td>19984270</td>\n",
       "      <td>72</td>\n",
       "      <td>20925564</td>\n",
       "      <td>2185-10-29 18:24:00</td>\n",
       "      <td>2185-11-07 15:56:00</td>\n",
       "      <td>NaN</td>\n",
       "      <td>URGENT</td>\n",
       "      <td>TRANSFER FROM HOSPITAL</td>\n",
       "      <td>HOME HEALTH CARE</td>\n",
       "      <td>Medicare</td>\n",
       "      <td>ENGLISH</td>\n",
       "      <td>MARRIED</td>\n",
       "      <td>WHITE</td>\n",
       "      <td>NaN</td>\n",
       "      <td>NaN</td>\n",
       "      <td>0</td>\n",
       "      <td>8 days 21:32:00</td>\n",
       "      <td>8</td>\n",
       "      <td>0</td>\n",
       "    </tr>\n",
       "    <tr>\n",
       "      <th>16570</th>\n",
       "      <td>524486</td>\n",
       "      <td>19992202</td>\n",
       "      <td>80</td>\n",
       "      <td>20329411</td>\n",
       "      <td>2153-02-26 00:48:00</td>\n",
       "      <td>2153-03-02 17:00:00</td>\n",
       "      <td>NaN</td>\n",
       "      <td>URGENT</td>\n",
       "      <td>TRANSFER FROM SKILLED NURSING FACILITY</td>\n",
       "      <td>SKILLED NURSING FACILITY</td>\n",
       "      <td>Medicare</td>\n",
       "      <td>ENGLISH</td>\n",
       "      <td>DIVORCED</td>\n",
       "      <td>WHITE</td>\n",
       "      <td>2153-02-25 18:11:00</td>\n",
       "      <td>2153-02-26 01:58:00</td>\n",
       "      <td>0</td>\n",
       "      <td>4 days 16:12:00</td>\n",
       "      <td>4</td>\n",
       "      <td>0</td>\n",
       "    </tr>\n",
       "    <tr>\n",
       "      <th>16571</th>\n",
       "      <td>524518</td>\n",
       "      <td>19999068</td>\n",
       "      <td>63</td>\n",
       "      <td>21606769</td>\n",
       "      <td>2161-08-24 04:10:00</td>\n",
       "      <td>2161-09-02 19:00:00</td>\n",
       "      <td>NaN</td>\n",
       "      <td>EW EMER.</td>\n",
       "      <td>EMERGENCY ROOM</td>\n",
       "      <td>HOME HEALTH CARE</td>\n",
       "      <td>Medicare</td>\n",
       "      <td>ENGLISH</td>\n",
       "      <td>DIVORCED</td>\n",
       "      <td>WHITE</td>\n",
       "      <td>2161-08-24 03:14:00</td>\n",
       "      <td>2161-08-24 05:26:00</td>\n",
       "      <td>0</td>\n",
       "      <td>9 days 14:50:00</td>\n",
       "      <td>9</td>\n",
       "      <td>0</td>\n",
       "    </tr>\n",
       "  </tbody>\n",
       "</table>\n",
       "</div>"
      ],
      "text/plain": [
       "       Unnamed: 0  subject_id  anchor_age   hadm_id            admittime  \\\n",
       "16567      524311    19959116          47  25551829  2128-11-06 10:25:00   \n",
       "16568      524320    19962250          58  23717024  2125-12-03 02:27:00   \n",
       "16569      524446    19984270          72  20925564  2185-10-29 18:24:00   \n",
       "16570      524486    19992202          80  20329411  2153-02-26 00:48:00   \n",
       "16571      524518    19999068          63  21606769  2161-08-24 04:10:00   \n",
       "\n",
       "                 dischtime deathtime     admission_type  \\\n",
       "16567  2128-11-14 17:30:00       NaN           EW EMER.   \n",
       "16568  2125-12-11 12:58:00       NaN  OBSERVATION ADMIT   \n",
       "16569  2185-11-07 15:56:00       NaN             URGENT   \n",
       "16570  2153-03-02 17:00:00       NaN             URGENT   \n",
       "16571  2161-09-02 19:00:00       NaN           EW EMER.   \n",
       "\n",
       "                           admission_location        discharge_location  \\\n",
       "16567                          EMERGENCY ROOM                      HOME   \n",
       "16568                          EMERGENCY ROOM          HOME HEALTH CARE   \n",
       "16569                  TRANSFER FROM HOSPITAL          HOME HEALTH CARE   \n",
       "16570  TRANSFER FROM SKILLED NURSING FACILITY  SKILLED NURSING FACILITY   \n",
       "16571                          EMERGENCY ROOM          HOME HEALTH CARE   \n",
       "\n",
       "      insurance language marital_status        ethnicity            edregtime  \\\n",
       "16567  Medicaid        ?        MARRIED  HISPANIC/LATINO  2128-11-06 07:39:00   \n",
       "16568     Other  ENGLISH        MARRIED            WHITE  2125-12-03 01:11:00   \n",
       "16569  Medicare  ENGLISH        MARRIED            WHITE                  NaN   \n",
       "16570  Medicare  ENGLISH       DIVORCED            WHITE  2153-02-25 18:11:00   \n",
       "16571  Medicare  ENGLISH       DIVORCED            WHITE  2161-08-24 03:14:00   \n",
       "\n",
       "                 edouttime  hospital_expire_flag     elapsed_time  \\\n",
       "16567  2128-11-06 11:51:00                     0  8 days 07:05:00   \n",
       "16568  2125-12-03 04:07:00                     0  8 days 10:31:00   \n",
       "16569                  NaN                     0  8 days 21:32:00   \n",
       "16570  2153-02-26 01:58:00                     0  4 days 16:12:00   \n",
       "16571  2161-08-24 05:26:00                     0  9 days 14:50:00   \n",
       "\n",
       "       elapsed_days  deathtag  \n",
       "16567             8         0  \n",
       "16568             8         0  \n",
       "16569             8         0  \n",
       "16570             4         0  \n",
       "16571             9         0  "
      ]
     },
     "execution_count": 4,
     "metadata": {},
     "output_type": "execute_result"
    }
   ],
   "source": [
    "adm = pd.read_csv(\"/path/admissions_processed.csv\")\n",
    "adm.tail()"
   ]
  },
  {
   "cell_type": "code",
   "execution_count": 11,
   "metadata": {},
   "outputs": [],
   "source": [
    "lab = pd.read_csv(\"/path/labevents.csv.gz\")"
   ]
  },
  {
   "cell_type": "code",
   "execution_count": null,
   "metadata": {},
   "outputs": [],
   "source": [
    "#Restrict the dataset to the previously selected admission ids only.\n",
    "adm_ids=list(adm[\"hadm_id\"])\n",
    "lab=lab.loc[lab[\"hadm_id\"].isin(adm_ids)]\n",
    "print(\"Number of patients remaining in the database: \")\n",
    "print(lab[\"subject_id\"].nunique())"
   ]
  },
  {
   "cell_type": "code",
   "execution_count": null,
   "metadata": {},
   "outputs": [],
   "source": [
    "#item_id\n",
    "item_id=pd.read_csv(\"/path/d_labitems.csv.gz\")\n",
    "item_id_1=item_id[[\"itemid\",\"label\"]]\n",
    "item_id_1.head()"
   ]
  },
  {
   "cell_type": "markdown",
   "metadata": {},
   "source": [
    "intermediate save due to memory issues"
   ]
  },
  {
   "cell_type": "code",
   "execution_count": null,
   "metadata": {},
   "outputs": [],
   "source": [
    "lab3.to_csv(\"/path/lab_processed(intermediate).csv\")\n",
    "lab3 = pd.read_csv(\"/path/lab_processed(intermediate).csv\")"
   ]
  },
  {
   "cell_type": "code",
   "execution_count": null,
   "metadata": {},
   "outputs": [],
   "source": [
    "#We merge the name of the item administrated.\n",
    "lab2=pd.merge(lab3,item_id_1,on=\"itemid\")\n",
    "lab2.head()\n",
    "print(\"Number of patients remaining in the database: \")\n",
    "print(lab2[\"subject_id\"].nunique())"
   ]
  },
  {
   "cell_type": "code",
   "execution_count": null,
   "metadata": {},
   "outputs": [],
   "source": [
    "n_best=150\n",
    "#For each item, evaluate the number of patients who have been given this item.\n",
    "pat_for_item=lab2.groupby(\"label\")[\"subject_id\"].nunique()\n",
    "#Order by occurence and take the 20 best (the ones with the most patients)\n",
    "frequent_labels=pat_for_item.sort_values(ascending=False)[:n_best]\n",
    "\n",
    "#Select only the time series with high occurence.\n",
    "lab3=lab2.loc[lab2[\"label\"].isin(list(frequent_labels.index))].copy()\n",
    "\n",
    "print(\"Number of patients remaining in the database: \")\n",
    "print(lab3[\"subject_id\"].nunique())"
   ]
  },
  {
   "cell_type": "code",
   "execution_count": null,
   "metadata": {},
   "outputs": [],
   "source": [
    "#Only select the subset that was used in the paper (only missing is INR(PT))\n",
    "subset=[\"Albumin\",\"Alanine Aminotransferase (ALT)\",\"Alkaline Phosphatase\",\"Anion Gap\",\"Asparate Aminotransferase (AST)\",\"Base Excess\",\"Basophils\",\"Bicarbonate\",\"Bilirubin, Total\",\"Calcium, Total\",\"Calculated Total CO2\",\"Chloride\",\"Creatinine\",\"Eosinophils\",\"Glucose\",\"Hematocrit\",\"Hemoglobin\",\n",
    "\"Lactate\",\"Lymphocytes\",\"MCH\",\"MCV\",\"Magnesium\",\"Monocytes\",\"Neutrophils\",\"PT\",\"PTT\",\"Phosphate\",\"Platelet Count\",\"Potassium\",\"RDW\",\"Red Blood Cells\",\"Sodium\",\"Specific Gravity\",\"Urea Nitrogen\",\"White Blood Cells\",\"pCO2\",\"pH\",\"pO2\"]\n",
    "\n",
    "lab3=lab3.loc[lab3[\"label\"].isin(subset)].copy()"
   ]
  },
  {
   "cell_type": "code",
   "execution_count": null,
   "metadata": {},
   "outputs": [],
   "source": [
    "print(lab3.groupby(\"label\")[\"valueuom\"].value_counts())"
   ]
  },
  {
   "cell_type": "code",
   "execution_count": null,
   "metadata": {},
   "outputs": [],
   "source": [
    "lab3.to_csv(\"/path/lab_processed.csv\")"
   ]
  }
 ],
 "metadata": {
  "kernelspec": {
   "display_name": "Python 3",
   "language": "python",
   "name": "python3"
  },
  "language_info": {
   "codemirror_mode": {
    "name": "ipython",
    "version": 3
   },
   "file_extension": ".py",
   "mimetype": "text/x-python",
   "name": "python",
   "nbconvert_exporter": "python",
   "pygments_lexer": "ipython3",
   "version": "3.8.3"
  }
 },
 "nbformat": 4,
 "nbformat_minor": 4
}